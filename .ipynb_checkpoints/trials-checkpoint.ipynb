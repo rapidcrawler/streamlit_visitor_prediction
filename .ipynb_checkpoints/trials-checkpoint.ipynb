{
 "cells": [
  {
   "cell_type": "code",
   "execution_count": null,
   "id": "f4a5170f-3e46-4e2d-86a8-bcbb35d876a8",
   "metadata": {},
   "outputs": [],
   "source": [
    "# train_model.py\n",
    "import numpy as np\n",
    "import pandas as pd\n",
    "import pickle\n",
    "from sklearn.linear_model import LinearRegression\n",
    "\n",
    "# Sample data for fitting a simple linear regression model\n",
    "X_sample = np.random.rand(100, 13) * 100 + 1  # Add 1 to avoid log(0)\n",
    "y_sample = np.dot(X_sample, np.array([50, 200, 300, 0.8, 1.2, 2.1, -0.5, 1.1, 0.7, -150, 0.5, 100, 200])) + 10000\n",
    "\n",
    "pd.DataFrame(X_sample, columns=['Year', 'Month', 'Nationality', 'Economy_Ticket_Price', 'Business_Ticket_Price', 'Bookings_Last_3_Months', 'Bookings_Last_2_Months', 'Bookings_Last_Month', 'Searches', 'arrivals_air', 'arrivals_land', 'arrivals_sea', 'healthy_gdp'])"
   ]
  },
  {
   "cell_type": "code",
   "execution_count": 1,
   "id": "61293fe5-3f8f-45b1-a0ac-032ba0b2ce6a",
   "metadata": {},
   "outputs": [],
   "source": [
    "import pandas as pd\n",
    "import numpy as np\n",
    "import pickle"
   ]
  },
  {
   "cell_type": "code",
   "execution_count": 4,
   "id": "0ee12bc1-d7a1-4bab-8587-df93bb496b64",
   "metadata": {},
   "outputs": [],
   "source": [
    "columns_list = [\n",
    "  2025,\n",
    "  1,\n",
    "  2,\n",
    "  500,\n",
    "  500,\n",
    "  2000,\n",
    "  1000,\n",
    "  800,\n",
    "  500,\n",
    "  50000,\n",
    "  0,\n",
    "  0,\n",
    "  0\n",
    "]\n",
    "artifact_path = './artifacts/'\n",
    "with open(artifact_path + 'random_forest_model.pkl', 'rb') as file:\n",
    "    model = pickle.load(file)"
   ]
  },
  {
   "cell_type": "code",
   "execution_count": 5,
   "id": "a749fd8a-35f0-49d1-b056-1132a412e2e5",
   "metadata": {},
   "outputs": [],
   "source": [
    "inputs = np.array(columns_list, dtype=float)\n",
    "inputs_log = np.log(inputs + 1)  # Add 1 to avoid log(0)\n",
    "\n",
    "# Perform the prediction\n",
    "prediction_log = model.predict(pd.DataFrame(inputs_log).T)\n",
    "prediction = np.exp(prediction_log)  # Reverse log transformation"
   ]
  },
  {
   "cell_type": "code",
   "execution_count": null,
   "id": "0fa1324c-95e4-446d-b514-f6f5bd1f80d4",
   "metadata": {},
   "outputs": [],
   "source": []
  }
 ],
 "metadata": {
  "kernelspec": {
   "display_name": "Python 3 (ipykernel)",
   "language": "python",
   "name": "python3"
  },
  "language_info": {
   "codemirror_mode": {
    "name": "ipython",
    "version": 3
   },
   "file_extension": ".py",
   "mimetype": "text/x-python",
   "name": "python",
   "nbconvert_exporter": "python",
   "pygments_lexer": "ipython3",
   "version": "3.9.19"
  }
 },
 "nbformat": 4,
 "nbformat_minor": 5
}
