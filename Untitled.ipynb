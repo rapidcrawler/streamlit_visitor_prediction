{
 "cells": [
  {
   "cell_type": "code",
   "execution_count": 1,
   "id": "778a1a76-f3c1-47a7-a6df-818f444e252c",
   "metadata": {},
   "outputs": [],
   "source": [
    "from datetime import datetime as dt"
   ]
  },
  {
   "cell_type": "code",
   "execution_count": 6,
   "id": "d8e91ae9-f47c-43a5-964b-7f9c18c4dfd5",
   "metadata": {},
   "outputs": [
    {
     "data": {
      "text/plain": [
       "2024"
      ]
     },
     "execution_count": 6,
     "metadata": {},
     "output_type": "execute_result"
    }
   ],
   "source": [
    "dt.now().year"
   ]
  },
  {
   "cell_type": "code",
   "execution_count": 8,
   "id": "d2ac61b9-3f46-4a3b-9775-2f8708ac01c5",
   "metadata": {},
   "outputs": [
    {
     "data": {
      "text/plain": [
       "2025"
      ]
     },
     "execution_count": 8,
     "metadata": {},
     "output_type": "execute_result"
    }
   ],
   "source": [
    "import pandas as pd\n",
    "# Load the predictions data\n",
    "artifact_path = './artifacts/'\n",
    "predictions_df = pd.read_csv(artifact_path+'onv_preds.csv')\n",
    "    \n",
    "# Ensure the data types of the DataFrame match the selections\n",
    "predictions_df['Year'] = predictions_df['Year'].astype(int)\n",
    "to_year = max(predictions_df['Year'])\n",
    "to_year"
   ]
  },
  {
   "cell_type": "code",
   "execution_count": null,
   "id": "5075cc27-a949-494b-8eb8-8cc53d918d7e",
   "metadata": {},
   "outputs": [],
   "source": []
  }
 ],
 "metadata": {
  "kernelspec": {
   "display_name": "Python 3 (ipykernel)",
   "language": "python",
   "name": "python3"
  },
  "language_info": {
   "codemirror_mode": {
    "name": "ipython",
    "version": 3
   },
   "file_extension": ".py",
   "mimetype": "text/x-python",
   "name": "python",
   "nbconvert_exporter": "python",
   "pygments_lexer": "ipython3",
   "version": "3.9.19"
  }
 },
 "nbformat": 4,
 "nbformat_minor": 5
}
